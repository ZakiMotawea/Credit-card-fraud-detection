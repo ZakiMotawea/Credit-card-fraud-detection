{
 "cells": [
  {
   "cell_type": "markdown",
   "id": "9ae8af5f",
   "metadata": {},
   "source": [
    "## Importing the libraries"
   ]
  },
  {
   "cell_type": "code",
   "execution_count": 21,
   "id": "ced31fa6",
   "metadata": {},
   "outputs": [],
   "source": [
    "import pandas as pd\n",
    "import numpy as np\n",
    "import matplotlib.pyplot as plt\n",
    "import seaborn as sns"
   ]
  },
  {
   "cell_type": "markdown",
   "id": "722a515e",
   "metadata": {},
   "source": [
    "## Importing the dataset"
   ]
  },
  {
   "cell_type": "code",
   "execution_count": 22,
   "id": "f2edbf7c",
   "metadata": {},
   "outputs": [],
   "source": [
    "df=pd.read_csv('creditcard.csv')"
   ]
  },
  {
   "cell_type": "markdown",
   "id": "99141591",
   "metadata": {},
   "source": [
    "## Exploring the data"
   ]
  },
  {
   "cell_type": "code",
   "execution_count": 37,
   "id": "19dda9d2",
   "metadata": {
    "scrolled": true
   },
   "outputs": [
    {
     "data": {
      "text/html": [
       "<div>\n",
       "<style scoped>\n",
       "    .dataframe tbody tr th:only-of-type {\n",
       "        vertical-align: middle;\n",
       "    }\n",
       "\n",
       "    .dataframe tbody tr th {\n",
       "        vertical-align: top;\n",
       "    }\n",
       "\n",
       "    .dataframe thead th {\n",
       "        text-align: right;\n",
       "    }\n",
       "</style>\n",
       "<table border=\"1\" class=\"dataframe\">\n",
       "  <thead>\n",
       "    <tr style=\"text-align: right;\">\n",
       "      <th></th>\n",
       "      <th>Time</th>\n",
       "      <th>V1</th>\n",
       "      <th>V2</th>\n",
       "      <th>V3</th>\n",
       "      <th>V4</th>\n",
       "      <th>V5</th>\n",
       "      <th>V6</th>\n",
       "      <th>V7</th>\n",
       "      <th>V8</th>\n",
       "      <th>V9</th>\n",
       "      <th>...</th>\n",
       "      <th>V21</th>\n",
       "      <th>V22</th>\n",
       "      <th>V23</th>\n",
       "      <th>V24</th>\n",
       "      <th>V25</th>\n",
       "      <th>V26</th>\n",
       "      <th>V27</th>\n",
       "      <th>V28</th>\n",
       "      <th>Amount</th>\n",
       "      <th>Class</th>\n",
       "    </tr>\n",
       "  </thead>\n",
       "  <tbody>\n",
       "    <tr>\n",
       "      <th>131208</th>\n",
       "      <td>79521.0</td>\n",
       "      <td>1.297916</td>\n",
       "      <td>-0.437366</td>\n",
       "      <td>0.371514</td>\n",
       "      <td>-1.154293</td>\n",
       "      <td>-0.504508</td>\n",
       "      <td>0.262963</td>\n",
       "      <td>-0.706333</td>\n",
       "      <td>0.201283</td>\n",
       "      <td>1.658298</td>\n",
       "      <td>...</td>\n",
       "      <td>-0.048795</td>\n",
       "      <td>0.078179</td>\n",
       "      <td>-0.212718</td>\n",
       "      <td>-0.982052</td>\n",
       "      <td>0.647089</td>\n",
       "      <td>-0.621146</td>\n",
       "      <td>0.087860</td>\n",
       "      <td>0.011508</td>\n",
       "      <td>1.00</td>\n",
       "      <td>0</td>\n",
       "    </tr>\n",
       "    <tr>\n",
       "      <th>42610</th>\n",
       "      <td>41170.0</td>\n",
       "      <td>-0.544578</td>\n",
       "      <td>-0.128066</td>\n",
       "      <td>2.051525</td>\n",
       "      <td>-1.656452</td>\n",
       "      <td>-1.214074</td>\n",
       "      <td>-0.770990</td>\n",
       "      <td>0.346983</td>\n",
       "      <td>-0.039535</td>\n",
       "      <td>1.288447</td>\n",
       "      <td>...</td>\n",
       "      <td>0.100474</td>\n",
       "      <td>0.385134</td>\n",
       "      <td>0.105162</td>\n",
       "      <td>0.769424</td>\n",
       "      <td>-0.051187</td>\n",
       "      <td>-0.103325</td>\n",
       "      <td>0.069151</td>\n",
       "      <td>0.079533</td>\n",
       "      <td>105.00</td>\n",
       "      <td>0</td>\n",
       "    </tr>\n",
       "    <tr>\n",
       "      <th>86757</th>\n",
       "      <td>61380.0</td>\n",
       "      <td>1.091687</td>\n",
       "      <td>-0.400956</td>\n",
       "      <td>0.425309</td>\n",
       "      <td>1.889075</td>\n",
       "      <td>1.307873</td>\n",
       "      <td>5.085615</td>\n",
       "      <td>-1.583694</td>\n",
       "      <td>1.383989</td>\n",
       "      <td>0.855096</td>\n",
       "      <td>...</td>\n",
       "      <td>-0.135047</td>\n",
       "      <td>-0.112857</td>\n",
       "      <td>-0.098376</td>\n",
       "      <td>1.038740</td>\n",
       "      <td>0.600509</td>\n",
       "      <td>0.138620</td>\n",
       "      <td>0.080226</td>\n",
       "      <td>0.032090</td>\n",
       "      <td>15.89</td>\n",
       "      <td>0</td>\n",
       "    </tr>\n",
       "    <tr>\n",
       "      <th>244014</th>\n",
       "      <td>152168.0</td>\n",
       "      <td>-1.982057</td>\n",
       "      <td>-1.871465</td>\n",
       "      <td>0.977700</td>\n",
       "      <td>-1.744761</td>\n",
       "      <td>0.623461</td>\n",
       "      <td>-0.269938</td>\n",
       "      <td>-0.373248</td>\n",
       "      <td>0.073800</td>\n",
       "      <td>-0.778119</td>\n",
       "      <td>...</td>\n",
       "      <td>-0.112191</td>\n",
       "      <td>0.474007</td>\n",
       "      <td>1.397225</td>\n",
       "      <td>0.324012</td>\n",
       "      <td>-0.204746</td>\n",
       "      <td>-0.427738</td>\n",
       "      <td>0.337261</td>\n",
       "      <td>-0.117738</td>\n",
       "      <td>50.00</td>\n",
       "      <td>0</td>\n",
       "    </tr>\n",
       "    <tr>\n",
       "      <th>72741</th>\n",
       "      <td>54837.0</td>\n",
       "      <td>1.208128</td>\n",
       "      <td>0.165372</td>\n",
       "      <td>-0.532229</td>\n",
       "      <td>1.335024</td>\n",
       "      <td>2.023462</td>\n",
       "      <td>3.959675</td>\n",
       "      <td>-0.798624</td>\n",
       "      <td>0.988859</td>\n",
       "      <td>-0.591381</td>\n",
       "      <td>...</td>\n",
       "      <td>0.091567</td>\n",
       "      <td>0.092349</td>\n",
       "      <td>-0.099050</td>\n",
       "      <td>1.004599</td>\n",
       "      <td>0.594737</td>\n",
       "      <td>0.111733</td>\n",
       "      <td>0.014436</td>\n",
       "      <td>0.024135</td>\n",
       "      <td>10.62</td>\n",
       "      <td>0</td>\n",
       "    </tr>\n",
       "  </tbody>\n",
       "</table>\n",
       "<p>5 rows × 31 columns</p>\n",
       "</div>"
      ],
      "text/plain": [
       "            Time        V1        V2        V3        V4        V5        V6  \\\n",
       "131208   79521.0  1.297916 -0.437366  0.371514 -1.154293 -0.504508  0.262963   \n",
       "42610    41170.0 -0.544578 -0.128066  2.051525 -1.656452 -1.214074 -0.770990   \n",
       "86757    61380.0  1.091687 -0.400956  0.425309  1.889075  1.307873  5.085615   \n",
       "244014  152168.0 -1.982057 -1.871465  0.977700 -1.744761  0.623461 -0.269938   \n",
       "72741    54837.0  1.208128  0.165372 -0.532229  1.335024  2.023462  3.959675   \n",
       "\n",
       "              V7        V8        V9  ...       V21       V22       V23  \\\n",
       "131208 -0.706333  0.201283  1.658298  ... -0.048795  0.078179 -0.212718   \n",
       "42610   0.346983 -0.039535  1.288447  ...  0.100474  0.385134  0.105162   \n",
       "86757  -1.583694  1.383989  0.855096  ... -0.135047 -0.112857 -0.098376   \n",
       "244014 -0.373248  0.073800 -0.778119  ... -0.112191  0.474007  1.397225   \n",
       "72741  -0.798624  0.988859 -0.591381  ...  0.091567  0.092349 -0.099050   \n",
       "\n",
       "             V24       V25       V26       V27       V28  Amount  Class  \n",
       "131208 -0.982052  0.647089 -0.621146  0.087860  0.011508    1.00      0  \n",
       "42610   0.769424 -0.051187 -0.103325  0.069151  0.079533  105.00      0  \n",
       "86757   1.038740  0.600509  0.138620  0.080226  0.032090   15.89      0  \n",
       "244014  0.324012 -0.204746 -0.427738  0.337261 -0.117738   50.00      0  \n",
       "72741   1.004599  0.594737  0.111733  0.014436  0.024135   10.62      0  \n",
       "\n",
       "[5 rows x 31 columns]"
      ]
     },
     "execution_count": 37,
     "metadata": {},
     "output_type": "execute_result"
    }
   ],
   "source": [
    "df.sample(5)"
   ]
  },
  {
   "cell_type": "code",
   "execution_count": 38,
   "id": "fa4a1da4",
   "metadata": {},
   "outputs": [
    {
     "data": {
      "text/plain": [
       "(284807, 31)"
      ]
     },
     "execution_count": 38,
     "metadata": {},
     "output_type": "execute_result"
    }
   ],
   "source": [
    "df.shape"
   ]
  },
  {
   "cell_type": "code",
   "execution_count": 24,
   "id": "ba0769b2",
   "metadata": {},
   "outputs": [
    {
     "name": "stdout",
     "output_type": "stream",
     "text": [
      "<class 'pandas.core.frame.DataFrame'>\n",
      "RangeIndex: 284807 entries, 0 to 284806\n",
      "Data columns (total 31 columns):\n",
      " #   Column  Non-Null Count   Dtype  \n",
      "---  ------  --------------   -----  \n",
      " 0   Time    284807 non-null  float64\n",
      " 1   V1      284807 non-null  float64\n",
      " 2   V2      284807 non-null  float64\n",
      " 3   V3      284807 non-null  float64\n",
      " 4   V4      284807 non-null  float64\n",
      " 5   V5      284807 non-null  float64\n",
      " 6   V6      284807 non-null  float64\n",
      " 7   V7      284807 non-null  float64\n",
      " 8   V8      284807 non-null  float64\n",
      " 9   V9      284807 non-null  float64\n",
      " 10  V10     284807 non-null  float64\n",
      " 11  V11     284807 non-null  float64\n",
      " 12  V12     284807 non-null  float64\n",
      " 13  V13     284807 non-null  float64\n",
      " 14  V14     284807 non-null  float64\n",
      " 15  V15     284807 non-null  float64\n",
      " 16  V16     284807 non-null  float64\n",
      " 17  V17     284807 non-null  float64\n",
      " 18  V18     284807 non-null  float64\n",
      " 19  V19     284807 non-null  float64\n",
      " 20  V20     284807 non-null  float64\n",
      " 21  V21     284807 non-null  float64\n",
      " 22  V22     284807 non-null  float64\n",
      " 23  V23     284807 non-null  float64\n",
      " 24  V24     284807 non-null  float64\n",
      " 25  V25     284807 non-null  float64\n",
      " 26  V26     284807 non-null  float64\n",
      " 27  V27     284807 non-null  float64\n",
      " 28  V28     284807 non-null  float64\n",
      " 29  Amount  284807 non-null  float64\n",
      " 30  Class   284807 non-null  int64  \n",
      "dtypes: float64(30), int64(1)\n",
      "memory usage: 67.4 MB\n"
     ]
    }
   ],
   "source": [
    "df.info()"
   ]
  },
  {
   "cell_type": "code",
   "execution_count": 25,
   "id": "216c8e79",
   "metadata": {},
   "outputs": [
    {
     "data": {
      "text/plain": [
       "Time      0\n",
       "V1        0\n",
       "V2        0\n",
       "V3        0\n",
       "V4        0\n",
       "V5        0\n",
       "V6        0\n",
       "V7        0\n",
       "V8        0\n",
       "V9        0\n",
       "V10       0\n",
       "V11       0\n",
       "V12       0\n",
       "V13       0\n",
       "V14       0\n",
       "V15       0\n",
       "V16       0\n",
       "V17       0\n",
       "V18       0\n",
       "V19       0\n",
       "V20       0\n",
       "V21       0\n",
       "V22       0\n",
       "V23       0\n",
       "V24       0\n",
       "V25       0\n",
       "V26       0\n",
       "V27       0\n",
       "V28       0\n",
       "Amount    0\n",
       "Class     0\n",
       "dtype: int64"
      ]
     },
     "execution_count": 25,
     "metadata": {},
     "output_type": "execute_result"
    }
   ],
   "source": [
    "df.isnull().sum()"
   ]
  },
  {
   "cell_type": "code",
   "execution_count": 26,
   "id": "798330fa",
   "metadata": {},
   "outputs": [
    {
     "data": {
      "text/html": [
       "<div>\n",
       "<style scoped>\n",
       "    .dataframe tbody tr th:only-of-type {\n",
       "        vertical-align: middle;\n",
       "    }\n",
       "\n",
       "    .dataframe tbody tr th {\n",
       "        vertical-align: top;\n",
       "    }\n",
       "\n",
       "    .dataframe thead th {\n",
       "        text-align: right;\n",
       "    }\n",
       "</style>\n",
       "<table border=\"1\" class=\"dataframe\">\n",
       "  <thead>\n",
       "    <tr style=\"text-align: right;\">\n",
       "      <th></th>\n",
       "      <th>Time</th>\n",
       "      <th>Amount</th>\n",
       "    </tr>\n",
       "  </thead>\n",
       "  <tbody>\n",
       "    <tr>\n",
       "      <th>count</th>\n",
       "      <td>284807.000000</td>\n",
       "      <td>284807.000000</td>\n",
       "    </tr>\n",
       "    <tr>\n",
       "      <th>mean</th>\n",
       "      <td>94813.859575</td>\n",
       "      <td>88.349619</td>\n",
       "    </tr>\n",
       "    <tr>\n",
       "      <th>std</th>\n",
       "      <td>47488.145955</td>\n",
       "      <td>250.120109</td>\n",
       "    </tr>\n",
       "    <tr>\n",
       "      <th>min</th>\n",
       "      <td>0.000000</td>\n",
       "      <td>0.000000</td>\n",
       "    </tr>\n",
       "    <tr>\n",
       "      <th>25%</th>\n",
       "      <td>54201.500000</td>\n",
       "      <td>5.600000</td>\n",
       "    </tr>\n",
       "    <tr>\n",
       "      <th>50%</th>\n",
       "      <td>84692.000000</td>\n",
       "      <td>22.000000</td>\n",
       "    </tr>\n",
       "    <tr>\n",
       "      <th>75%</th>\n",
       "      <td>139320.500000</td>\n",
       "      <td>77.165000</td>\n",
       "    </tr>\n",
       "    <tr>\n",
       "      <th>max</th>\n",
       "      <td>172792.000000</td>\n",
       "      <td>25691.160000</td>\n",
       "    </tr>\n",
       "  </tbody>\n",
       "</table>\n",
       "</div>"
      ],
      "text/plain": [
       "                Time         Amount\n",
       "count  284807.000000  284807.000000\n",
       "mean    94813.859575      88.349619\n",
       "std     47488.145955     250.120109\n",
       "min         0.000000       0.000000\n",
       "25%     54201.500000       5.600000\n",
       "50%     84692.000000      22.000000\n",
       "75%    139320.500000      77.165000\n",
       "max    172792.000000   25691.160000"
      ]
     },
     "execution_count": 26,
     "metadata": {},
     "output_type": "execute_result"
    }
   ],
   "source": [
    "df[['Time','Amount']].describe()"
   ]
  },
  {
   "cell_type": "code",
   "execution_count": 27,
   "id": "c784a098",
   "metadata": {},
   "outputs": [
    {
     "data": {
      "text/plain": [
       "0    284315\n",
       "1       492\n",
       "Name: Class, dtype: int64"
      ]
     },
     "execution_count": 27,
     "metadata": {},
     "output_type": "execute_result"
    }
   ],
   "source": [
    "df['Class'].value_counts()"
   ]
  },
  {
   "cell_type": "code",
   "execution_count": 29,
   "id": "1f26e70f",
   "metadata": {},
   "outputs": [
    {
     "data": {
      "image/png": "[encoded data removed]",
      "text/plain": [
       "<Figure size 640x480 with 1 Axes>"
      ]
     },
     "metadata": {},
     "output_type": "display_data"
    }
   ],
   "source": [
    "plt.pie(df['Class'].value_counts(),labels=df['Class'].value_counts().keys(),explode=[.01,.03],shadow=True,autopct='%1.1f%%')\n",
    "plt.show()"
   ]
  },
  {
   "cell_type": "code",
   "execution_count": 30,
   "id": "eff45103",
   "metadata": {},
   "outputs": [
    {
     "data": {
      "text/plain": [
       "<AxesSubplot:>"
      ]
     },
     "execution_count": 30,
     "metadata": {},
     "output_type": "execute_result"
    },
    {
     "data": {
      "image/png": "[encoded data removed]",
      "text/plain": [
       "<Figure size 640x480 with 2 Axes>"
      ]
     },
     "metadata": {},
     "output_type": "display_data"
    }
   ],
   "source": [
    "sns.heatmap(df.corr())"
   ]
  },
  {
   "cell_type": "markdown",
   "id": "db617a4f",
   "metadata": {},
   "source": [
    "## the features and the target"
   ]
  },
  {
   "cell_type": "code",
   "execution_count": 31,
   "id": "096b927a",
   "metadata": {},
   "outputs": [],
   "source": [
    "X = df.iloc[:, :-1].values\n",
    "y = df.iloc[:, -1].values"
   ]
  },
  {
   "cell_type": "markdown",
   "id": "df0362e6",
   "metadata": {},
   "source": [
    "## splitting the dataset"
   ]
  },
  {
   "cell_type": "code",
   "execution_count": 32,
   "id": "3e4fba63",
   "metadata": {},
   "outputs": [],
   "source": [
    "from sklearn.model_selection import train_test_split\n",
    "X_train, X_test, y_train, y_test = train_test_split(X, y, test_size = 0.25, random_state = 0)"
   ]
  },
  {
   "cell_type": "markdown",
   "id": "d64d979d",
   "metadata": {},
   "source": [
    "## training the model"
   ]
  },
  {
   "cell_type": "code",
   "execution_count": 33,
   "id": "7c5d86d6",
   "metadata": {},
   "outputs": [
    {
     "data": {
      "text/plain": [
       "RandomForestClassifier(criterion='entropy', n_estimators=10, random_state=0)"
      ]
     },
     "execution_count": 33,
     "metadata": {},
     "output_type": "execute_result"
    }
   ],
   "source": [
    "from sklearn.ensemble import RandomForestClassifier\n",
    "classifier = RandomForestClassifier(n_estimators = 10, criterion = 'entropy', random_state = 0)\n",
    "classifier.fit(X_train, y_train)"
   ]
  },
  {
   "cell_type": "markdown",
   "id": "2d0d8761",
   "metadata": {},
   "source": [
    "## predicted and tested dataset"
   ]
  },
  {
   "cell_type": "code",
   "execution_count": 34,
   "id": "5ea93ca3",
   "metadata": {},
   "outputs": [
    {
     "name": "stdout",
     "output_type": "stream",
     "text": [
      "[[0 0]\n",
      " [0 0]\n",
      " [0 0]\n",
      " ...\n",
      " [0 0]\n",
      " [0 0]\n",
      " [0 0]]\n"
     ]
    }
   ],
   "source": [
    "y_pred = classifier.predict(X_test)\n",
    "print(np.concatenate((y_pred.reshape(len(y_pred),1), y_test.reshape(len(y_test),1)),1))"
   ]
  },
  {
   "cell_type": "markdown",
   "id": "241d30e4",
   "metadata": {},
   "source": [
    "## Validation for trained dataset"
   ]
  },
  {
   "cell_type": "code",
   "execution_count": 35,
   "id": "b5a279fc",
   "metadata": {},
   "outputs": [
    {
     "name": "stdout",
     "output_type": "stream",
     "text": [
      "Accuracy: 99.95 %\n",
      "Standard Deviation: 0.01 %\n"
     ]
    }
   ],
   "source": [
    "from sklearn.model_selection import cross_val_score\n",
    "accuracies = cross_val_score(estimator = classifier, X = X_train, y = y_train, cv = 10)\n",
    "print(\"Accuracy: {:.2f} %\".format(accuracies.mean()*100))\n",
    "print(\"Standard Deviation: {:.2f} %\".format(accuracies.std()*100))"
   ]
  },
  {
   "cell_type": "markdown",
   "id": "d9a6985c",
   "metadata": {},
   "source": [
    "## accuracy_score for tested dataset"
   ]
  },
  {
   "cell_type": "code",
   "execution_count": 36,
   "id": "692b6657",
   "metadata": {},
   "outputs": [
    {
     "name": "stdout",
     "output_type": "stream",
     "text": [
      "[[71075     7]\n",
      " [   25    95]]\n"
     ]
    },
    {
     "data": {
      "text/plain": [
       "0.9995505744220669"
      ]
     },
     "execution_count": 36,
     "metadata": {},
     "output_type": "execute_result"
    }
   ],
   "source": [
    "from sklearn.metrics import confusion_matrix, accuracy_score\n",
    "cm = confusion_matrix(y_test, y_pred)\n",
    "print(cm)\n",
    "accuracy_score(y_test, y_pred)"
   ]
  },
  {
   "cell_type": "code",
   "execution_count": null,
   "id": "5615a95a",
   "metadata": {},
   "outputs": [],
   "source": []
  }
 ],
 "metadata": {
  "kernelspec": {
   "display_name": "Python 3 (ipykernel)",
   "language": "python",
   "name": "python3"
  },
  "language_info": {
   "codemirror_mode": {
    "name": "ipython",
    "version": 3
   },
   "file_extension": ".py",
   "mimetype": "text/x-python",
   "name": "python",
   "nbconvert_exporter": "python",
   "pygments_lexer": "ipython3",
   "version": "3.9.13"
  }
 },
 "nbformat": 4,
 "nbformat_minor": 5
}
